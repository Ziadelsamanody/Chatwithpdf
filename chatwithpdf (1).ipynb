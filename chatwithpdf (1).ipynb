{
  "cells": [
    {
      "cell_type": "code",
      "execution_count": 34,
      "metadata": {
        "id": "Vha2KJnwZiuN"
      },
      "outputs": [],
      "source": [
        "# # important paackages\n",
        "# !pip install pypdf\n",
        "# ! pip install docx2txt\n",
        "# ! pip install langchain-community\n",
        "# ! pip install sentence-transformers\n",
        "# !pip install langchain_text_splitters\n",
        "# !pip install langchain_core\n",
        "# ! pip install chromadb\n",
        "# ! pip install langchain_openai\n"
      ]
    },
    {
      "cell_type": "code",
      "execution_count": 8,
      "metadata": {
        "id": "I-bflbEpaIWT"
      },
      "outputs": [],
      "source": [
        "import numpy as np\n",
        "import os\n",
        "from langchain_community.document_loaders import Docx2txtLoader\n",
        "from langchain_core.documents import Document\n",
        "from langchain_text_splitters.markdown import MarkdownHeaderTextSplitter\n",
        "from langchain_text_splitters.character import CharacterTextSplitter\n",
        "from langchain.embeddings import SentenceTransformerEmbeddings\n",
        "from langchain.vectorstores import Chroma\n",
        "\n",
        "#generation step\n",
        "from langchain_openai import ChatOpenAI\n",
        "from langchain_core.prompts import PromptTemplate\n",
        "from langchain_core.runnables import RunnablePassthrough\n",
        "from langchain_core.runnables import RunnableParallel\n",
        "from langchain_core.output_parsers import StrOutputParser"
      ]
    },
    {
      "cell_type": "code",
      "source": [
        "# load and preprocess text\n",
        "loader = Docx2txtLoader(\"/content/Introduction_to_Data_and_Data_Science_2.docx\")\n",
        "pages = loader.load()\n",
        "\n",
        "# split by markdown\n",
        "md_splitter = MarkdownHeaderTextSplitter(\n",
        "    headers_to_split_on= [(\"#\", \"Course Title\"),\n",
        "                          (\"##\", \"Lecture Title\")]\n",
        ")\n",
        "\n",
        "pages_md_split = md_splitter.split_text(pages[0].page_content)\n",
        "\n",
        "# remove \\\\n\n",
        "for i in range(len(pages_md_split)):\n",
        "  pages_md_split[i].page_content  = \" \".join(pages_md_split[i].page_content.split())\n",
        "\n",
        "\n",
        "char_splitter = CharacterTextSplitter(\n",
        "    separator=\".\",\n",
        "    chunk_size=500,\n",
        "    chunk_overlap=50\n",
        ")\n",
        "\n",
        "pages_char_split = char_splitter.split_documents(pages_md_split)\n"
      ],
      "metadata": {
        "id": "_5yROGVGX1Pk"
      },
      "execution_count": 9,
      "outputs": []
    },
    {
      "cell_type": "code",
      "source": [
        "# Embeddings"
      ],
      "metadata": {
        "id": "5-Y4T2XcbUop"
      },
      "execution_count": 10,
      "outputs": []
    },
    {
      "cell_type": "code",
      "source": [
        "embedding_model = SentenceTransformerEmbeddings(model_name=\"all-mpnet-base-v2\") # 784 -1024"
      ],
      "metadata": {
        "colab": {
          "base_uri": "https://localhost:8080/"
        },
        "id": "SKfN3GECaX4s",
        "outputId": "f1320b5f-9a1d-44f8-dc1d-110071fd96ab"
      },
      "execution_count": 11,
      "outputs": [
        {
          "output_type": "stream",
          "name": "stderr",
          "text": [
            "<ipython-input-11-0074e4bdeffe>:1: LangChainDeprecationWarning: The class `HuggingFaceEmbeddings` was deprecated in LangChain 0.2.2 and will be removed in 1.0. An updated version of the class exists in the :class:`~langchain-huggingface package and should be used instead. To use it run `pip install -U :class:`~langchain-huggingface` and import as `from :class:`~langchain_huggingface import HuggingFaceEmbeddings``.\n",
            "  embedding_model = SentenceTransformerEmbeddings(model_name=\"all-mpnet-base-v2\") # 784 -1024\n",
            "/usr/local/lib/python3.11/dist-packages/huggingface_hub/utils/_auth.py:94: UserWarning: \n",
            "The secret `HF_TOKEN` does not exist in your Colab secrets.\n",
            "To authenticate with the Hugging Face Hub, create a token in your settings tab (https://huggingface.co/settings/tokens), set it as secret in your Google Colab and restart your session.\n",
            "You will be able to reuse this secret in all of your notebooks.\n",
            "Please note that authentication is recommended but still optional to access public models or datasets.\n",
            "  warnings.warn(\n"
          ]
        }
      ]
    },
    {
      "cell_type": "code",
      "source": [
        "vector1 = embedding_model.embed_query(pages_char_split[3].page_content)\n",
        "vector2 = embedding_model.embed_query(pages_char_split[5].page_content)\n",
        "vector3 = embedding_model.embed_query(pages_char_split[18].page_content)"
      ],
      "metadata": {
        "id": "jrlo2fO9bckh"
      },
      "execution_count": 12,
      "outputs": []
    },
    {
      "cell_type": "code",
      "source": [
        "np.dot(vector1, vector2) , np.dot(vector1, vector2)"
      ],
      "metadata": {
        "colab": {
          "base_uri": "https://localhost:8080/"
        },
        "id": "3A6MvLy7f_2E",
        "outputId": "4f7ab126-7c38-41be-8d7a-eac5c54483f0"
      },
      "execution_count": 13,
      "outputs": [
        {
          "output_type": "execute_result",
          "data": {
            "text/plain": [
              "(0.623600434636373, 0.623600434636373)"
            ]
          },
          "metadata": {},
          "execution_count": 13
        }
      ]
    },
    {
      "cell_type": "code",
      "source": [
        "vectorstore = Chroma.from_documents(documents = pages_char_split,\n",
        "                                    embedding = embedding_model,\n",
        "                                    persist_directory = \"/content/drive/MyDrive/UntitledFolde1\")"
      ],
      "metadata": {
        "id": "9nHMzGqPg4mj"
      },
      "execution_count": 14,
      "outputs": []
    },
    {
      "cell_type": "code",
      "source": [
        "# ADD Document to vectorstore\n",
        "added_document = Document(page_content='Alright! So… Let’s discuss the not-so-obvious differences between the terms analysis and analytics. Due to the similarity of the words, some people believe they share the same meaning, and thus use them interchangeably. Technically, this isn’t correct. There is, in fact, a distinct difference between the two. And the reason for one often being used instead of the other is the lack of a transparent understanding of both. So, let’s clear this up, shall we? First, we will start with analysis',\n",
        "                          metadata={'Course Title': 'Introduction to Data and Data Science',\n",
        "                                    'Lecture Title': 'Analysis vs Analytics'})"
      ],
      "metadata": {
        "id": "a3-JzWnLjfRC"
      },
      "execution_count": 15,
      "outputs": []
    },
    {
      "cell_type": "code",
      "source": [
        "vectorstore.add_documents([added_document])"
      ],
      "metadata": {
        "colab": {
          "base_uri": "https://localhost:8080/"
        },
        "id": "xKdK6a6Mk546",
        "outputId": "6454dba3-6af1-45fe-e682-c430a7a9310a"
      },
      "execution_count": 16,
      "outputs": [
        {
          "output_type": "execute_result",
          "data": {
            "text/plain": [
              "['a846b400-8139-42fe-979f-c8654aa89fbd']"
            ]
          },
          "metadata": {},
          "execution_count": 16
        }
      ]
    },
    {
      "cell_type": "code",
      "source": [
        "  question = \"What programming Language do data scientists use?\""
      ],
      "metadata": {
        "id": "2K02U569lG-S"
      },
      "execution_count": 17,
      "outputs": []
    },
    {
      "cell_type": "code",
      "source": [
        "# use chorma similtry\n",
        "retrieved_docs = vectorstore.similarity_search(query=question, k=5)"
      ],
      "metadata": {
        "id": "BFFI9sSxl65Z"
      },
      "execution_count": 18,
      "outputs": []
    },
    {
      "cell_type": "code",
      "source": [
        "retrieved_docs"
      ],
      "metadata": {
        "colab": {
          "base_uri": "https://localhost:8080/"
        },
        "id": "8ZQtKOMMmGPJ",
        "outputId": "60ff5673-b69b-4620-9bfa-945ac8ea25cb"
      },
      "execution_count": 19,
      "outputs": [
        {
          "output_type": "execute_result",
          "data": {
            "text/plain": [
              "[Document(metadata={'Course Title': 'Introduction to Data and Data Science', 'Lecture Title': 'Programming Languages & Software Employed in Data Science - All the Tools You Need'}, page_content='Thus, we need a lot of computational power, and we can expect people to use the languages similar to those in the big data column. Apart from R, Python, and MATLAB, other, faster languages are used like Java, JavaScript, C, C++, and Scala. Cool. What we said may be wonderful, but that’s not all! By using one or more programming languages, people create application software or, as they are sometimes called, software solutions, that are adjusted for specific business needs'),\n",
              " Document(metadata={'Course Title': 'Introduction to Data and Data Science', 'Lecture Title': 'Programming Languages & Software Employed in Data Science - All the Tools You Need'}, page_content='Thus, we need a lot of computational power, and we can expect people to use the languages similar to those in the big data column. Apart from R, Python, and MATLAB, other, faster languages are used like Java, JavaScript, C, C++, and Scala. Cool. What we said may be wonderful, but that’s not all! By using one or more programming languages, people create application software or, as they are sometimes called, software solutions, that are adjusted for specific business needs'),\n",
              " Document(metadata={'Lecture Title': 'Programming Languages & Software Employed in Data Science - All the Tools You Need', 'Course Title': 'Introduction to Data and Data Science'}, page_content='As you can see from the infographic, R, and Python are the two most popular tools across all columns. Their biggest advantage is that they can manipulate data and are integrated within multiple data and data science software platforms. They are not just suitable for mathematical and statistical computations. In other words, R, and Python are adaptable. They can solve a wide variety of business and data-related problems from beginning to the end'),\n",
              " Document(metadata={'Course Title': 'Introduction to Data and Data Science', 'Lecture Title': 'Programming Languages & Software Employed in Data Science - All the Tools You Need'}, page_content='As you can see from the infographic, R, and Python are the two most popular tools across all columns. Their biggest advantage is that they can manipulate data and are integrated within multiple data and data science software platforms. They are not just suitable for mathematical and statistical computations. In other words, R, and Python are adaptable. They can solve a wide variety of business and data-related problems from beginning to the end'),\n",
              " Document(metadata={'Lecture Title': 'Programming Languages & Software Employed in Data Science - All the Tools You Need', 'Course Title': 'Introduction to Data and Data Science'}, page_content='What about big data? Apart from R and Python, people working in this area are often proficient in other languages like Java or Scala. These two have not been developed specifically for doing statistical analyses, however they turn out to be very useful when combining data from multiple sources. All right! Let’s finish off with machine learning. When it comes to machine learning, we often deal with big data')]"
            ]
          },
          "metadata": {},
          "execution_count": 19
        }
      ]
    },
    {
      "cell_type": "code",
      "source": [
        "for i in retrieved_docs:\n",
        "  print(f\"Page Content : {i.page_content}\\n-------\\nLecture Title: {i.metadata['Lecture Title']}\\n\")"
      ],
      "metadata": {
        "colab": {
          "base_uri": "https://localhost:8080/"
        },
        "id": "fDmuj4aemG0H",
        "outputId": "e6abb4a8-3a01-4662-e5f8-527133dc6341"
      },
      "execution_count": null,
      "outputs": [
        {
          "output_type": "stream",
          "name": "stdout",
          "text": [
            "Page Content : Thus, we need a lot of computational power, and we can expect people to use the languages similar to those in the big data column. Apart from R, Python, and MATLAB, other, faster languages are used like Java, JavaScript, C, C++, and Scala. Cool. What we said may be wonderful, but that’s not all! By using one or more programming languages, people create application software or, as they are sometimes called, software solutions, that are adjusted for specific business needs\n",
            "-------\n",
            "Lecture Title: Programming Languages & Software Employed in Data Science - All the Tools You Need\n",
            "\n",
            "Page Content : As you can see from the infographic, R, and Python are the two most popular tools across all columns. Their biggest advantage is that they can manipulate data and are integrated within multiple data and data science software platforms. They are not just suitable for mathematical and statistical computations. In other words, R, and Python are adaptable. They can solve a wide variety of business and data-related problems from beginning to the end\n",
            "-------\n",
            "Lecture Title: Programming Languages & Software Employed in Data Science - All the Tools You Need\n",
            "\n",
            "Page Content : What about big data? Apart from R and Python, people working in this area are often proficient in other languages like Java or Scala. These two have not been developed specifically for doing statistical analyses, however they turn out to be very useful when combining data from multiple sources. All right! Let’s finish off with machine learning. When it comes to machine learning, we often deal with big data\n",
            "-------\n",
            "Lecture Title: Programming Languages & Software Employed in Data Science - All the Tools You Need\n",
            "\n",
            "Page Content : Great! We hope we gave you a good idea about the level of applicability of the most frequently used programming and software tools in the field of data science. Thank you for watching!\n",
            "-------\n",
            "Lecture Title: Programming Languages & Software Employed in Data Science - All the Tools You Need\n",
            "\n",
            "Page Content : More importantly, it will be sufficient for your need to create quick and accurate analyses. However, if your theoretical preparation is strong enough, you will find yourself restricted by software. Knowing a programming language such as R and Python, gives you the freedom to create specific, ad-hoc tools for each project you are working on\n",
            "-------\n",
            "Lecture Title: Programming Languages & Software Employed in Data Science - All the Tools You Need\n",
            "\n"
          ]
        }
      ]
    },
    {
      "cell_type": "code",
      "source": [
        "question2 = \"what software  do data scientest use?\"\n",
        "\n",
        "retrive2 = vectorstore.similarity_search(\n",
        "    query=question,\n",
        "    k=3\n",
        ")\n",
        "\n",
        "for i in retrive2:\n",
        "  print(f\"Page Content : {i.page_content}\\n______\\n Lecture Title: {i.metadata['Lecture Title']}\\n\")"
      ],
      "metadata": {
        "colab": {
          "base_uri": "https://localhost:8080/"
        },
        "id": "md7JKi661Wv7",
        "outputId": "8426b560-8d47-4143-e25c-7e23ce74fde7"
      },
      "execution_count": 20,
      "outputs": [
        {
          "output_type": "stream",
          "name": "stdout",
          "text": [
            "Page Content : Thus, we need a lot of computational power, and we can expect people to use the languages similar to those in the big data column. Apart from R, Python, and MATLAB, other, faster languages are used like Java, JavaScript, C, C++, and Scala. Cool. What we said may be wonderful, but that’s not all! By using one or more programming languages, people create application software or, as they are sometimes called, software solutions, that are adjusted for specific business needs\n",
            "______\n",
            " Lecture Title: Programming Languages & Software Employed in Data Science - All the Tools You Need\n",
            "\n",
            "Page Content : Thus, we need a lot of computational power, and we can expect people to use the languages similar to those in the big data column. Apart from R, Python, and MATLAB, other, faster languages are used like Java, JavaScript, C, C++, and Scala. Cool. What we said may be wonderful, but that’s not all! By using one or more programming languages, people create application software or, as they are sometimes called, software solutions, that are adjusted for specific business needs\n",
            "______\n",
            " Lecture Title: Programming Languages & Software Employed in Data Science - All the Tools You Need\n",
            "\n",
            "Page Content : As you can see from the infographic, R, and Python are the two most popular tools across all columns. Their biggest advantage is that they can manipulate data and are integrated within multiple data and data science software platforms. They are not just suitable for mathematical and statistical computations. In other words, R, and Python are adaptable. They can solve a wide variety of business and data-related problems from beginning to the end\n",
            "______\n",
            " Lecture Title: Programming Languages & Software Employed in Data Science - All the Tools You Need\n",
            "\n"
          ]
        }
      ]
    },
    {
      "cell_type": "code",
      "source": [
        "# Problem in retrival is a duplicated\n",
        "# The marginal reverenve\n",
        "retrive3 = vectorstore.max_marginal_relevance_search(query=question2, k=3, lambda_mult=0.1)\n",
        "\n",
        "for i in retrive3 :\n",
        "  print(f\"Page Contnet : {i.page_content}\\n----\\n Lecture Title :{i.metadata['Lecture Title']}\\n\")"
      ],
      "metadata": {
        "colab": {
          "base_uri": "https://localhost:8080/"
        },
        "id": "IjfQagxAyxXH",
        "outputId": "f123e786-3ee6-4ce5-b7e6-ea92022bcead"
      },
      "execution_count": 21,
      "outputs": [
        {
          "output_type": "stream",
          "name": "stdout",
          "text": [
            "Page Contnet : As you can see from the infographic, R, and Python are the two most popular tools across all columns. Their biggest advantage is that they can manipulate data and are integrated within multiple data and data science software platforms. They are not just suitable for mathematical and statistical computations. In other words, R, and Python are adaptable. They can solve a wide variety of business and data-related problems from beginning to the end\n",
            "----\n",
            " Lecture Title :Programming Languages & Software Employed in Data Science - All the Tools You Need\n",
            "\n",
            "Page Contnet : It’s actually a software framework which was designed to address the complexity of big data and its computational intensity. Most notably, Hadoop distributes the computational tasks on multiple computers which is basically the way to handle big data nowadays. Power BI, SaS, Qlik, and especially Tableau are top-notch examples of software designed for business intelligence visualizations\n",
            "----\n",
            " Lecture Title :Programming Languages & Software Employed in Data Science - All the Tools You Need\n",
            "\n",
            "Page Contnet : In terms of predictive analytics, EViews is mostly used for working with econometric time-series models, and Stata—for academic statistical and econometric research, where techniques like regression, cluster, and factor analysis are constantly applied. As a final note, remember the following. Should you have the relevant business and theoretical knowledge, learning a software tool is relatively easy as opposed to learning a programming language\n",
            "----\n",
            " Lecture Title :Programming Languages & Software Employed in Data Science - All the Tools You Need\n",
            "\n"
          ]
        }
      ]
    },
    {
      "cell_type": "code",
      "source": [
        "len(vectorstore.get()[\"documents\"])"
      ],
      "metadata": {
        "colab": {
          "base_uri": "https://localhost:8080/"
        },
        "id": "vvPmvDmS4umy",
        "outputId": "445a0d93-6c6a-4a4d-ffa5-167d739512f3"
      },
      "execution_count": 22,
      "outputs": [
        {
          "output_type": "execute_result",
          "data": {
            "text/plain": [
              "41"
            ]
          },
          "metadata": {},
          "execution_count": 22
        }
      ]
    },
    {
      "cell_type": "code",
      "source": [
        "retrival = vectorstore.as_retriever(search_type='mmr', search_kwargs={\"k\": 3 , \"lambda_mult\":0.7})"
      ],
      "metadata": {
        "id": "hjIE3MEp54Wc"
      },
      "execution_count": 23,
      "outputs": []
    },
    {
      "cell_type": "code",
      "source": [
        "retrival"
      ],
      "metadata": {
        "colab": {
          "base_uri": "https://localhost:8080/"
        },
        "id": "d36QOD686RhJ",
        "outputId": "9bc95e33-279a-4da7-f30d-d40e3d5bc98f"
      },
      "execution_count": null,
      "outputs": [
        {
          "output_type": "execute_result",
          "data": {
            "text/plain": [
              "VectorStoreRetriever(tags=['Chroma', 'HuggingFaceEmbeddings'], vectorstore=<langchain_community.vectorstores.chroma.Chroma object at 0x7f9a13265710>, search_type='mmr', search_kwargs={'k': 3, 'lambda_mult': 0.7})"
            ]
          },
          "metadata": {},
          "execution_count": 18
        }
      ]
    },
    {
      "cell_type": "code",
      "source": [
        "question = \"what software do data scientests use?\""
      ],
      "metadata": {
        "id": "ebrLhZlj6SWa"
      },
      "execution_count": 24,
      "outputs": []
    },
    {
      "cell_type": "code",
      "source": [
        "retrived_docs = retrival.invoke(question)"
      ],
      "metadata": {
        "id": "F1JY28HK6Xy4"
      },
      "execution_count": 25,
      "outputs": []
    },
    {
      "cell_type": "code",
      "source": [
        "retrived_docs"
      ],
      "metadata": {
        "colab": {
          "base_uri": "https://localhost:8080/"
        },
        "id": "nL1Y_N9H6eZg",
        "outputId": "528f449c-48df-4588-c3de-a7342f3b6cc8"
      },
      "execution_count": 26,
      "outputs": [
        {
          "output_type": "execute_result",
          "data": {
            "text/plain": [
              "[Document(metadata={'Lecture Title': 'Programming Languages & Software Employed in Data Science - All the Tools You Need', 'Course Title': 'Introduction to Data and Data Science'}, page_content='As you can see from the infographic, R, and Python are the two most popular tools across all columns. Their biggest advantage is that they can manipulate data and are integrated within multiple data and data science software platforms. They are not just suitable for mathematical and statistical computations. In other words, R, and Python are adaptable. They can solve a wide variety of business and data-related problems from beginning to the end'),\n",
              " Document(metadata={'Lecture Title': 'Programming Languages & Software Employed in Data Science - All the Tools You Need', 'Course Title': 'Introduction to Data and Data Science'}, page_content='Great! We hope we gave you a good idea about the level of applicability of the most frequently used programming and software tools in the field of data science. Thank you for watching!'),\n",
              " Document(metadata={'Course Title': 'Introduction to Data and Data Science', 'Lecture Title': 'Programming Languages & Software Employed in Data Science - All the Tools You Need'}, page_content='It’s actually a software framework which was designed to address the complexity of big data and its computational intensity. Most notably, Hadoop distributes the computational tasks on multiple computers which is basically the way to handle big data nowadays. Power BI, SaS, Qlik, and especially Tableau are top-notch examples of software designed for business intelligence visualizations')]"
            ]
          },
          "metadata": {},
          "execution_count": 26
        }
      ]
    },
    {
      "cell_type": "code",
      "source": [
        "for i in retrived_docs:\n",
        "  print(f\"Page Content: {i.page_content}\\n------\\n Lecture Title:{i.metadata['Lecture Title']}\")"
      ],
      "metadata": {
        "colab": {
          "base_uri": "https://localhost:8080/"
        },
        "id": "oR1hMFLM6fmA",
        "outputId": "beba7f20-5468-4898-dfcd-7f9db04433dd"
      },
      "execution_count": null,
      "outputs": [
        {
          "output_type": "stream",
          "name": "stdout",
          "text": [
            "Page Content: As you can see from the infographic, R, and Python are the two most popular tools across all columns. Their biggest advantage is that they can manipulate data and are integrated within multiple data and data science software platforms. They are not just suitable for mathematical and statistical computations. In other words, R, and Python are adaptable. They can solve a wide variety of business and data-related problems from beginning to the end\n",
            "------\n",
            " Lecture Title:Programming Languages & Software Employed in Data Science - All the Tools You Need\n",
            "Page Content: Great! We hope we gave you a good idea about the level of applicability of the most frequently used programming and software tools in the field of data science. Thank you for watching!\n",
            "------\n",
            " Lecture Title:Programming Languages & Software Employed in Data Science - All the Tools You Need\n",
            "Page Content: It’s actually a software framework which was designed to address the complexity of big data and its computational intensity. Most notably, Hadoop distributes the computational tasks on multiple computers which is basically the way to handle big data nowadays. Power BI, SaS, Qlik, and especially Tableau are top-notch examples of software designed for business intelligence visualizations\n",
            "------\n",
            " Lecture Title:Programming Languages & Software Employed in Data Science - All the Tools You Need\n"
          ]
        }
      ]
    },
    {
      "cell_type": "markdown",
      "source": [
        "# Generation"
      ],
      "metadata": {
        "id": "AQwLg2DW7HAY"
      }
    },
    {
      "cell_type": "code",
      "source": [
        "api = os.environ.get(\"OPEN_AI_APIKEY\")"
      ],
      "metadata": {
        "id": "scVyv1kf7GbU"
      },
      "execution_count": 27,
      "outputs": []
    },
    {
      "cell_type": "code",
      "source": [
        "TEMPLATE = \"\"\"\n",
        "Answer the following question:\n",
        "{question}\n",
        "\n",
        "To answer the question , use only the following context :\n",
        "{context}\n",
        "\n",
        "At the end of response, specify the name of lecture this context is taken from in the format:\n",
        "Resources : \"Lecture Title\"\n",
        "where \"Lecture Title\" should be substituted with the title of all resource lectures.\n",
        "\"\"\"\n",
        "\n",
        "prompt_templete = PromptTemplate.from_template(TEMPLATE)"
      ],
      "metadata": {
        "id": "Y3vJHanM6xVX"
      },
      "execution_count": 28,
      "outputs": []
    },
    {
      "cell_type": "code",
      "source": [
        "chat = ChatOpenAI(model_name=\"gpt-4o-mini\", model_kwargs={\"seed\": 365},\n",
        "                  max_tokens=250, api_key=api)"
      ],
      "metadata": {
        "colab": {
          "base_uri": "https://localhost:8080/"
        },
        "id": "VfT-YYrD-NdB",
        "outputId": "d2ea9f3f-5101-44bc-b70a-25716420fbbb"
      },
      "execution_count": 29,
      "outputs": [
        {
          "output_type": "stream",
          "name": "stderr",
          "text": [
            "/usr/local/lib/python3.11/dist-packages/IPython/core/interactiveshell.py:3473: UserWarning: Parameters {'seed'} should be specified explicitly. Instead they were passed in as part of `model_kwargs` parameter.\n",
            "  if (await self.run_code(code, result,  async_=asy)):\n"
          ]
        }
      ]
    },
    {
      "cell_type": "code",
      "source": [
        "question = \"What software do data scientists use?\"\n"
      ],
      "metadata": {
        "id": "JmOq0aAW-0nY"
      },
      "execution_count": 30,
      "outputs": []
    },
    {
      "cell_type": "code",
      "source": [
        "chain = {\"context\": retrival,\n",
        "         \"question\": RunnablePassthrough()} | prompt_templete |chat | StrOutputParser()"
      ],
      "metadata": {
        "id": "IOy1MZqM--t9"
      },
      "execution_count": 31,
      "outputs": []
    },
    {
      "cell_type": "code",
      "source": [
        "chain.invoke(question)"
      ],
      "metadata": {
        "colab": {
          "base_uri": "https://localhost:8080/",
          "height": 90
        },
        "id": "uhE1nzq4_Lxl",
        "outputId": "c5069257-d4bf-465f-f261-1cdd9c70b45f"
      },
      "execution_count": 32,
      "outputs": [
        {
          "output_type": "execute_result",
          "data": {
            "text/plain": [
              "'Data scientists commonly use R and Python, which are the two most popular tools in the field. These programming languages have the advantage of being able to manipulate data and integrate with multiple data and data science software platforms. They are not limited to just mathematical and statistical computations; rather, they are adaptable and can address a wide variety of business and data-related problems from beginning to end.\\n\\nResources: \"Programming Languages & Software Employed in Data Science - All the Tools You Need\"'"
            ],
            "application/vnd.google.colaboratory.intrinsic+json": {
              "type": "string"
            }
          },
          "metadata": {},
          "execution_count": 32
        }
      ]
    },
    {
      "cell_type": "code",
      "source": [
        "print(\"\"\"Data scientists commonly use R and Python, which are the two most popular tools in the field. These programming languages have the advantage of being able to manipulate data and integrate with multiple data science software platforms. They are adaptable and can address a wide variety of business and data-related problems from start to finish.\\n\\nResources: \"Programming Languages & Software Employed in Data Science - All the Tools You Need\"'\"\"\")"
      ],
      "metadata": {
        "colab": {
          "base_uri": "https://localhost:8080/"
        },
        "id": "4Qe-QlIe_bMs",
        "outputId": "2787917c-9f02-4802-dfd5-ba21c672f4b5"
      },
      "execution_count": 33,
      "outputs": [
        {
          "output_type": "stream",
          "name": "stdout",
          "text": [
            "Data scientists commonly use R and Python, which are the two most popular tools in the field. These programming languages have the advantage of being able to manipulate data and integrate with multiple data science software platforms. They are adaptable and can address a wide variety of business and data-related problems from start to finish.\n",
            "\n",
            "Resources: \"Programming Languages & Software Employed in Data Science - All the Tools You Need\"'\n"
          ]
        }
      ]
    },
    {
      "cell_type": "code",
      "source": [],
      "metadata": {
        "id": "MLs-sdL4WKpz"
      },
      "execution_count": null,
      "outputs": []
    }
  ],
  "metadata": {
    "colab": {
      "provenance": []
    },
    "kernelspec": {
      "display_name": "Python 3",
      "name": "python3"
    },
    "language_info": {
      "name": "python"
    }
  },
  "nbformat": 4,
  "nbformat_minor": 0
}